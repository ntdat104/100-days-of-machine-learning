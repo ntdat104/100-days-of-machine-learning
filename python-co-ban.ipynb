{
 "cells": [
  {
   "cell_type": "markdown",
   "id": "cf39f9a9",
   "metadata": {},
   "source": [
    "# 2 Python cơ bản"
   ]
  },
  {
   "cell_type": "markdown",
   "id": "9718bac4",
   "metadata": {},
   "source": [
    "## 2.1 Kiểu dữ liệu cơ bản"
   ]
  },
  {
   "cell_type": "markdown",
   "id": "5217723a",
   "metadata": {},
   "source": [
    "Giống với các ngôn ngữ lập trình khác, Python cũng có các kiểu dữ liệu cơ bản như integers (số\n",
    "nguyên), floats (số thực), booleans (kiểu dữ liệu True/False) và strings (chuỗi)"
   ]
  },
  {
   "cell_type": "markdown",
   "id": "487e4f9f",
   "metadata": {},
   "source": [
    "### 2.1.1 Số"
   ]
  },
  {
   "cell_type": "code",
   "execution_count": null,
   "id": "e11012ae",
   "metadata": {},
   "outputs": [],
   "source": [
    "Số nguyên và số thực dùng như các ngôn ngữ khác\n",
    "\n",
    "x = 3\n",
    "print(type(x)) # Prints \"<class 'int'>\"\n",
    "print(x) # Prints \"3\"\n",
    "print(x + 1) # Cộng; prints \"4\"\n",
    "print(x - 1) # Trừ; prints \"2\"\n",
    "print(x * 2) # Nhân; prints \"6\"\n",
    "print(x ** 2) # Lũy thừa; prints \"9\"\n",
    "x += 1\n",
    "print(x) # Prints \"4\"\n",
    "x *= 2\n",
    "print(x) # Prints \"8\"\n",
    "y = 2.5\n",
    "print(type(y)) # Prints \"<class 'float'>\"\n",
    "print(y, y + 1, y * 2, y ** 2) # Prints \"2.5 3.5 5.0 6.25\""
   ]
  },
  {
   "cell_type": "markdown",
   "id": "3d81555d",
   "metadata": {},
   "source": [
    "### 2.1.2 Phép tính logic"
   ]
  },
  {
   "cell_type": "code",
   "execution_count": null,
   "id": "736d3e9f",
   "metadata": {},
   "outputs": [],
   "source": [
    "Python có các phép tính logic nhưng dùng các từ tiếng anh (and, or) thay cho kí hiệu (&&, ||):\n",
    "    \n",
    "t = True\n",
    "f = False\n",
    "print(type(t)) # Prints \"<class 'bool'>\"\n",
    "print(t and f) # AND; prints \"False\"\n",
    "print(t or f) # OR; prints \"True\"\n",
    "print(not t) # NOT; prints \"False\"\n",
    "print(t != f) # XOR; prints \"True\""
   ]
  },
  {
   "cell_type": "markdown",
   "id": "53d7d9c1",
   "metadata": {},
   "source": [
    "### 2.1.3 Chuỗi"
   ]
  },
  {
   "cell_type": "code",
   "execution_count": null,
   "id": "d10aed65",
   "metadata": {},
   "outputs": [],
   "source": [
    "Python có hỗ trợ dạng chuỗi\n",
    "\n",
    "hello = 'hello' # gán giá trị chuỗi cho biến, chuỗi đặt trong 2 dấu '\n",
    "world = \"world\" # chuỗi cũng có thể đặt trong dấu \".\n",
    "print(hello) # Prints \"hello\"\n",
    "print(len(hello)) # Độ dài chuỗi; prints \"5\"\n",
    "hw = hello + ' ' + world # Nối chuỗi bằng dấu +\n",
    "print(hw) # prints \"hello world\"\n",
    "hw12 = '%s %s %d' % (hello, world, 12) # Cách format chuỗi\n",
    "print(hw12) # prints \"hello world 12\"\n",
    "\n",
    "Kiểu string có rất nhiều method để xử lý chuỗi\n",
    "\n",
    "s = \"hello\"\n",
    "print(s.capitalize()) # Viết hoa chữ cái đầu; prints \"Hello\"\n",
    "print(s.upper()) # Viết hoa tất cả các chữ; prints \"HELLO\"\n",
    "print(s.replace('l', '(ell)')) # Thay thế chuỗi; prints \"he(ell)(ell)o\"\n",
    "print(' world '.strip()) # Bỏ đi khoảng trắng ở đầu và cuối chuỗi; prints \"world\""
   ]
  },
  {
   "cell_type": "markdown",
   "id": "d94615a7",
   "metadata": {},
   "source": [
    "## 2.2 Containers"
   ]
  },
  {
   "cell_type": "markdown",
   "id": "9b6cafc7",
   "metadata": {},
   "source": [
    "Python có một số container như: lists, dictionaries,..."
   ]
  },
  {
   "cell_type": "markdown",
   "id": "0d9dd85d",
   "metadata": {},
   "source": [
    "### 2.2.1 List"
   ]
  },
  {
   "cell_type": "code",
   "execution_count": null,
   "id": "377f908e",
   "metadata": {},
   "outputs": [],
   "source": [
    "List trong Python giống như mảng (array) nhưng không cố định kích thước và có thể chứa nhiều\n",
    "kiểu dữ liệu khác nhau trong 1 list.\n",
    "\n",
    "xs = [3, 1, 2] # Tạo 1 list\n",
    "print(xs, xs[2]) # Prints \"[3, 1, 2] 2\"\n",
    "print(xs[-1]) # Chỉ số âm là đếm phần tử từ cuối list lên; prints \"2\"\n",
    "xs[2] = 'foo' # List có thể chứa nhiều kiểu phần tử khác nhau\n",
    "print(xs) # Prints \"[3, 1, 'foo']\"\n",
    "xs.append('bar') # Thêm phần tử vào cuối list\n",
    "print(xs) # Prints \"[3, 1, 'foo', 'bar']\"\n",
    "x = xs.pop() # Bỏ đi phần tử cuối cùng khỏi list và trả về phần tử đấy\n",
    "print(x, xs) # Prints \"bar [3, 1, 'foo']\"\n",
    "\n",
    "Slicing Thay vì lấy từng phần tử một trong list thì python hỗ trợ truy xuất nhiều phần tử 1 lúc gọi là\n",
    "slicing.\n",
    "\n",
    "nums = list(range(5)) # range sinh ta 1 list các phần tử\n",
    "print(nums) # Prints \"[0, 1, 2, 3, 4]\"\n",
    "print(nums[2:4]) # Lấy phần tử thứ 2->4, python chỉ số mảng từ 0;\n",
    "print(nums[2:]) # Lấy từ phần tử thứ 2 đến hết; prints \"[2, 3, 4]\"\n",
    "print(nums[:2]) # Lấy từ đầu đến phần tử thứ 2; prints \"[0, 1]\"\n",
    "print(nums[:]) # Lấy tất cả phần tử trong list; prints \"[0, 1, 2, 3, 4]\"\n",
    "print(nums[:-1]) # Lấy từ phần tử đầu đến phần tử gần cuối trong list; prints \"[nums[2:4] = [8, 9] # Gán giá trị mới cho phần tử trong mảng từ vị trí 2->4\n",
    "print(nums) # Prints \"[0, 1, 8, 9, 4]\"\n",
    "\n",
    "Loops Để duyệt và in ra các phần tử trong list\n",
    "\n",
    "animals = ['cat', 'dog', 'monkey']\n",
    "for idx, animal in enumerate(animals):\n",
    "    print('#%d: %s' % (idx + 1, animal))\n",
    "# Prints \"#1: cat\", \"#2: dog\", \"#3: monkey\", in mỗi thành phần trong list 1 dòng"
   ]
  },
  {
   "cell_type": "markdown",
   "id": "0f410901",
   "metadata": {},
   "source": [
    "### 2.2.2 Dictionaries"
   ]
  },
  {
   "cell_type": "code",
   "execution_count": null,
   "id": "086f3949",
   "metadata": {},
   "outputs": [],
   "source": [
    "Dictionaries lưu thông tin dưới dạng key, value.\n",
    "\n",
    "d = {'cat': 'cute', 'dog': 'furry'} # Tạo dictionary, các phần tử dạng key:value\n",
    "print(d['cat']) # Lấy ra value của key 'cat' trong dictionary; prints \"cute\"\n",
    "print('cat' in d) # Kiểm tra key có trong dictionary không; prints \"True\"\n",
    "d['fish'] = 'wet' # Gán key, value, d[key] = value\n",
    "print(d['fish']) # Prints \"wet\"\n",
    "# print(d['monkey']) # Lỗi vì key 'monkey' không trong dictionary;\n",
    "del d['fish'] # Xóa phần tử key:value từ dictionary\n",
    "\n",
    "Loop Duyệt qua các phần tử trong dictionary\n",
    "\n",
    "d = {'person': 2, 'cat': 4, 'spider': 8}\n",
    "for animal, legs in d.items():\n",
    "    print('A %s has %d legs' % (animal, legs))\n",
    "# Prints \"A person has 2 legs\", \"A cat has 4 legs\", \"A spider has 8 legs\""
   ]
  },
  {
   "cell_type": "markdown",
   "id": "e1697419",
   "metadata": {},
   "source": [
    "## 2.3 Function"
   ]
  },
  {
   "cell_type": "code",
   "execution_count": null,
   "id": "52151435",
   "metadata": {},
   "outputs": [],
   "source": [
    "Function là một khối code python được thực hiện một hoặc một số chức năng nhất định. Function\n",
    "trong python được định nghĩa với keyword def.\n",
    "\n",
    "# Hàm có input là 1 số và output xem số đấy âm, dương hay số 0\n",
    "def sign(x):\n",
    "    if x > 0:\n",
    "        return 'positive'\n",
    "    elif x < 0:\n",
    "        return 'negative'\n",
    "    else:\n",
    "        return 'zero'\n",
    "    \n",
    "for x in [-1, 0, 1]:\n",
    "    print(sign(x))\n",
    "# Prints \"negative\", \"zero\", \"positive\""
   ]
  },
  {
   "cell_type": "markdown",
   "id": "8077ec91",
   "metadata": {},
   "source": [
    "## 2.4 Sử dụng Numpy"
   ]
  },
  {
   "cell_type": "code",
   "execution_count": null,
   "id": "5ca69112",
   "metadata": {},
   "outputs": [],
   "source": [
    "Vì Python là scripting language nên không thích hợp cho ML, Numpy giải quyết vấn đề trên bằng\n",
    "cách xây dựng 1 thư viện viết bằng C nhưng có interface Python. Như vậy Numpy cộng hưởng 2 ưu\n",
    "điểm của 2 ngôn ngữ: nhanh như C và đơn giản như Python. Điều này giúp ích rất nhiều cho cộng\n",
    "đồng Machine Learning trên Python.\n",
    "Mảng trong numpy gồm các phần tử có dùng kiểu giá trị, chỉ số không âm được bắt đầu từ 0, số\n",
    "chiều được gọi là rank của mảng Numpy, và shape là một tuple các số nguyên đưa ra kích thước của\n",
    "mảng theo mỗi chiều.\n",
    "\n",
    "import numpy as np\n",
    "\n",
    "a = np.array([1, 2, 3]) # Tạo array 1 chiều\n",
    "print(type(a)) # Prints \"<class 'numpy.ndarray'>\"\n",
    "print(a.shape) # Prints \"(3,)\"\n",
    "print(a[0], a[1], a[2]) # Prints \"1 2 3\"\n",
    "a[0] = 5 # Thay đổi phần tử vị trí số 0\n",
    "print(a) # Prints \"[5, 2, 3]\"\n",
    "\n",
    "b = np.array([[1,2,3],[4,5,6]]) # Tạo array 2 chiều\n",
    "print(b.shape) # Prints \"(2, 3)\"\n",
    "print(b[0, 0], b[0, 1], b[1, 0]) # Prints \"1 2 4\"\n",
    "\n",
    "Ngoài ra có những cách khác để tạo array với giá trị mặc định\n",
    "\n",
    "import numpy as np\n",
    "\n",
    "a = np.zeros((2,2)) # Tạo array với tất cả các phần tử 0\n",
    "print(a)            # Prints \"[[ 0. 0.]\n",
    "                    #          [ 0. 0.]]\"\n",
    "    \n",
    "b = np.ones((1,2)) # Tạo array với các phần từ 1\n",
    "print(b)           # Prints \"[[ 1. 1.]]\"\n",
    "\n",
    "c = np.full((2,2), 7) # Tạo array với các phần tử 7\n",
    "print(c)              # Prints \"[[ 7. 7.]\n",
    "                      #          [ 7. 7.]]\"\n",
    "\n",
    "d = np.eye(2) # Tạo identity matrix kích thước 2*2\n",
    "print(d)      # Prints \"[[ 1. 0.]\n",
    "              #          [ 0. 1.]]\"\n",
    "\n",
    "e = np.random.random((2,2)) # Tạo array với các phần tử được tạo ngẫu nhiên\n",
    "print(e)                    # Might print \"[[ 0.91940167 0.08143941]\n",
    "                            #               [ 0.68744134 0.87236687]]\""
   ]
  },
  {
   "cell_type": "markdown",
   "id": "ac0b0deb",
   "metadata": {},
   "source": [
    "### 2.4.1 Array indexing"
   ]
  },
  {
   "cell_type": "code",
   "execution_count": null,
   "id": "d23fa8fb",
   "metadata": {},
   "outputs": [],
   "source": [
    "Tương tự như list, numpy array cũng có thể slice. Tuy nhiên vì numpy array có nhiều chiều, nên khi\n",
    "dùng slice phải chỉ định rõ chiều nào.\n",
    "\n",
    "import numpy as np\n",
    "\n",
    "# Tạo array 2 chiều với kích thước (3, 4)\n",
    "# [[ 1 2 3 4]\n",
    "# [ 5 6 7 8]\n",
    "# [ 9 10 11 12]]\n",
    "a = np.array([[1,2,3,4], [5,6,7,8], [9,10,11,12]])\n",
    "\n",
    "# Dùng slide để lấy ra subarray gồm 2 hàng đầu tiên (1 & 2) và 2 cột (2 & 3)\n",
    "# Output là array kích thước 2*2\n",
    "# [[2 3]\n",
    "# [6 7]]\n",
    "b = a[:2, 1:3]\n",
    "\n",
    "print(a[0, 1]) # Prints \"2\"\n",
    "a[0, 1] = 77 # Chỉnh sửa phần tử trong array\n",
    "print(a[0, 1]) # Prints \"77\"\n",
    "\n",
    "Bên cạnh đó cũng có thể dùng các chỉ số với slice index. Tuy nhiên số chiều array sẽ giảm đi.\n",
    "\n",
    "import numpy as np\n",
    "\n",
    "# Tạo array 2 chiều kích thước (3, 4)\n",
    "# [[ 1 2 3 4]\n",
    "# [ 5 6 7 8]\n",
    "# [ 9 10 11 12]]\n",
    "a = np.array([[1,2,3,4], [5,6,7,8], [9,10,11,12]])\n",
    "\n",
    "row_r1 = a[1, :] # Lấy ra hàng thứ 2 trong a, output array 1 chiều\n",
    "row_r2 = a[1:2, :] # Lấy ra hàng thứ 1&2 trong a, output array 2 chiều\n",
    "print(row_r1, row_r1.shape) # Prints \"[5 6 7 8] (4,)\"\n",
    "print(row_r2, row_r2.shape) # Prints \"[[5 6 7 8]] (1, 4)\""
   ]
  },
  {
   "cell_type": "markdown",
   "id": "230209de",
   "metadata": {},
   "source": [
    "### 2.4.2 Các phép tính trên array"
   ]
  },
  {
   "cell_type": "code",
   "execution_count": null,
   "id": "4e6ffcd2",
   "metadata": {},
   "outputs": [],
   "source": [
    "Các phép tính với ma trận được hỗ trợ trên numpy\n",
    "\n",
    "import numpy as np\n",
    "\n",
    "x = np.array([[1,2],[3,4]], dtype=np.float64)\n",
    "y = np.array([[5,6],[7,8]], dtype=np.float64)\n",
    "\n",
    "# Tính tổng\n",
    "# [[ 6.0 8.0]\n",
    "# [10.0 12.0]]\n",
    "print(x + y)\n",
    "print(np.add(x, y))\n",
    "\n",
    "# Phép trừ\n",
    "# [[-4.0 -4.0]\n",
    "# [-4.0 -4.0]]\n",
    "print(x - y)\n",
    "print(np.subtract(x, y))\n",
    "\n",
    "# Phép nhân element-wise\n",
    "# [[ 5.0 12.0]\n",
    "# [21.0 32.0]]\n",
    "print(x * y)\n",
    "print(np.multiply(x, y))\n",
    "\n",
    "# Phép chia element-wise\n",
    "# [[ 0.2 0.33333333]\n",
    "# [ 0.42857143 0.5 ]]\n",
    "print(x / y)\n",
    "print(np.divide(x, y))\n",
    "\n",
    "# Tính căn bậc hai\n",
    "# [[ 1. 1.41421356]\n",
    "# [ 1.73205081 2. ]]\n",
    "print(np.sqrt(x))\n",
    "\n",
    "* dùng để nhân element-wise chứ không phải nhân ma trận thông thường. Thay vào đó dùng np.dot\n",
    "để nhân ma trận.\n",
    "\n",
    "import numpy as np\n",
    "\n",
    "x = np.array([[1,2],[3,4]])\n",
    "y = np.array([[5,6],[7,8]])\n",
    "\n",
    "v = np.array([9,10])\n",
    "w = np.array([11, 12])\n",
    "\n",
    "# Nhân ma trận, output số 219\n",
    "print(v.dot(w))\n",
    "print(np.dot(v, w))\n",
    "\n",
    "# Nhân ma trận; output ma trận 2*2\n",
    "# [[19 22]\n",
    "# [43 50]]\n",
    "print(x.dot(y))\n",
    "print(np.dot(x, y))\n",
    "\n",
    "Numpy cũng hỗ trợ tính tổng array theo các chiều khác nhau\n",
    "\n",
    "import numpy as np\n",
    "\n",
    "x = np.array([[1,2],[3,4]])\n",
    "\n",
    "print(np.sum(x)) # Tính tổng tất cả phần tử trong array; prints \"10\"\n",
    "print(np.sum(x, axis=0)) # Tính tổng phần tử mỗi hàng; prints \"[4 6]\"\n",
    "print(np.sum(x, axis=1)) # Tính tổng phần tử mỗi cột; prints \"[3 7]\""
   ]
  },
  {
   "cell_type": "markdown",
   "id": "39c7dcbf",
   "metadata": {},
   "source": [
    "## 2.5 Broadcasting"
   ]
  },
  {
   "cell_type": "code",
   "execution_count": null,
   "id": "7499c398",
   "metadata": {},
   "outputs": [],
   "source": [
    "Broadcasting là một kĩ thuật cho phép numpy làm việc với các array có shape khác nhau khi thực\n",
    "hiện các phép toán.\n",
    "\n",
    "import numpy as np\n",
    "\n",
    "# Cộng vector v với mỗi hàng của ma trận x, kết quả lưu ở ma trận y.\n",
    "x = np.array([[1,2,3], [4,5,6], [7,8,9], [10, 11, 12]])\n",
    "v = np.array([1, 0, 1])\n",
    "y = np.empty_like(x) # Tạo 1 array có chiều giống x\n",
    "\n",
    "# Dùng loop để vector v với mỗi hàng của ma trận\n",
    "for i in range(4):\n",
    "    y[i, :] = x[i, :] + v\n",
    "    \n",
    "# Kết quả của y\n",
    "# [[ 2 2 4]\n",
    "# [ 5 5 7]\n",
    "# [ 8 8 10]\n",
    "# [11 11 13]]\n",
    "print(y)"
   ]
  }
 ],
 "metadata": {
  "kernelspec": {
   "display_name": "Python 3 (ipykernel)",
   "language": "python",
   "name": "python3"
  },
  "language_info": {
   "codemirror_mode": {
    "name": "ipython",
    "version": 3
   },
   "file_extension": ".py",
   "mimetype": "text/x-python",
   "name": "python",
   "nbconvert_exporter": "python",
   "pygments_lexer": "ipython3",
   "version": "3.11.3"
  }
 },
 "nbformat": 4,
 "nbformat_minor": 5
}
